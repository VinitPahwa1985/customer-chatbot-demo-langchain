{
 "cells": [
  {
   "cell_type": "code",
   "execution_count": 1,
   "metadata": {},
   "outputs": [],
   "source": [
    "import os"
   ]
  },
  {
   "cell_type": "code",
   "execution_count": null,
   "metadata": {},
   "outputs": [],
   "source": [
    "openai_api_key = \"\""
   ]
  },
  {
   "cell_type": "code",
   "execution_count": 4,
   "metadata": {},
   "outputs": [],
   "source": [
    "from langchain_openai import OpenAIEmbeddings\n",
    "embedding_llm = OpenAIEmbeddings(openai_api_key=openai_api_key)"
   ]
  },
  {
   "cell_type": "code",
   "execution_count": 6,
   "metadata": {},
   "outputs": [],
   "source": [
    "from langchain_community.document_loaders import TextLoader"
   ]
  },
  {
   "cell_type": "code",
   "execution_count": 7,
   "metadata": {},
   "outputs": [],
   "source": [
    "from pathlib import Path"
   ]
  },
  {
   "cell_type": "code",
   "execution_count": 8,
   "metadata": {},
   "outputs": [],
   "source": [
    "docs_base = Path(\"./docs\")\n",
    "files_all = docs_base.rglob(\"*\")\n",
    "excludes = [\".DS_Store\", \".ipynb_checkpoints\"]\n",
    "files = []\n",
    "for f in files_all:\n",
    "    to_exclude = False\n",
    "    for ex in excludes:\n",
    "        to_exclude = to_exclude or f.match(ex)\n",
    "    if not to_exclude and f.is_file():\n",
    "        files.append(f)"
   ]
  },
  {
   "cell_type": "code",
   "execution_count": 9,
   "metadata": {},
   "outputs": [
    {
     "data": {
      "text/plain": [
       "[PosixPath('docs/menu_price.csv'),\n",
       " PosixPath('docs/general_info.txt'),\n",
       " PosixPath('docs/coffee_bean_menu.csv'),\n",
       " PosixPath('docs/product_factsheets/geisha.txt'),\n",
       " PosixPath('docs/product_factsheets/blue_mountain.txt'),\n",
       " PosixPath('docs/product_factsheets/sumatra_mandheling.txt'),\n",
       " PosixPath('docs/product_factsheets/yirgacheffe.txt')]"
      ]
     },
     "execution_count": 9,
     "metadata": {},
     "output_type": "execute_result"
    }
   ],
   "source": [
    "files"
   ]
  },
  {
   "cell_type": "code",
   "execution_count": 10,
   "metadata": {},
   "outputs": [
    {
     "name": "stdout",
     "output_type": "stream",
     "text": [
      "docs/menu_price.csv\n",
      "docs/general_info.txt\n",
      "docs/coffee_bean_menu.csv\n",
      "docs/product_factsheets/geisha.txt\n",
      "docs/product_factsheets/blue_mountain.txt\n",
      "docs/product_factsheets/sumatra_mandheling.txt\n",
      "docs/product_factsheets/yirgacheffe.txt\n"
     ]
    }
   ],
   "source": [
    "documents = []\n",
    "for file in files:\n",
    "    print(file)\n",
    "    loader = TextLoader(str(file.absolute()))\n",
    "    documents += loader.load()"
   ]
  },
  {
   "cell_type": "code",
   "execution_count": 11,
   "metadata": {},
   "outputs": [
    {
     "data": {
      "text/plain": [
       "{'id': None,\n",
       " 'metadata': {'source': '/Users/vinitpahwa/Documents/GENAIProjects/customer-chatbot-demo-langchain/docs/menu_price.csv'},\n",
       " 'page_content': '\\ufeffTable of Drink Menu,,\\nCoffee Drink,Small Size Price ($),Large Size Price ($)\\nEspresso,2.00,3.00\\nAmericano,2.50,3.50\\nCappuccino,3.00,4.50\\nLatte,3.50,5.00\\nMocha,4.00,5.50\\n,,\\nTable of Add-on items or change,,\\nIce,0.50,\\nOat milk,1.00,\\nSoy milk,0.75,',\n",
       " 'type': 'Document'}"
      ]
     },
     "execution_count": 11,
     "metadata": {},
     "output_type": "execute_result"
    }
   ],
   "source": [
    "documents[0].__dict__"
   ]
  },
  {
   "cell_type": "markdown",
   "metadata": {},
   "source": [
    "Indexing with Chroma"
   ]
  },
  {
   "cell_type": "code",
   "execution_count": 12,
   "metadata": {},
   "outputs": [],
   "source": [
    "from langchain_community.vectorstores import Chroma"
   ]
  },
  {
   "cell_type": "code",
   "execution_count": 13,
   "metadata": {},
   "outputs": [],
   "source": [
    "db = Chroma.from_documents(documents, embedding_llm, persist_directory=\"./chroma\",\n",
    "                          collection_name=\"planetbucks\")"
   ]
  },
  {
   "cell_type": "code",
   "execution_count": 14,
   "metadata": {},
   "outputs": [
    {
     "name": "stderr",
     "output_type": "stream",
     "text": [
      "/var/folders/b8/k4y3h5991wjcdwnm2lfrm09h0000gn/T/ipykernel_3954/123899826.py:1: LangChainDeprecationWarning: Since Chroma 0.4.x the manual persistence method is no longer supported as docs are automatically persisted.\n",
      "  db.persist()\n"
     ]
    }
   ],
   "source": [
    "db.persist()"
   ]
  },
  {
   "cell_type": "markdown",
   "metadata": {},
   "source": [
    "Retrival"
   ]
  },
  {
   "cell_type": "code",
   "execution_count": 15,
   "metadata": {},
   "outputs": [],
   "source": [
    "import os\n",
    "from langchain_openai import OpenAIEmbeddings\n",
    "from langchain_community.vectorstores import Chroma\n",
    "from langchain.tools.retriever import create_retriever_tool\n",
    "from langchain.prompts import SystemMessagePromptTemplate, MessagesPlaceholder, HumanMessagePromptTemplate, PromptTemplate\n"
   ]
  },
  {
   "cell_type": "markdown",
   "metadata": {},
   "source": [
    "Create Embedding LLM (OpenAI)"
   ]
  },
  {
   "cell_type": "code",
   "execution_count": 16,
   "metadata": {},
   "outputs": [],
   "source": [
    "embedding_llm = OpenAIEmbeddings(openai_api_key=openai_api_key)"
   ]
  },
  {
   "cell_type": "code",
   "execution_count": 17,
   "metadata": {},
   "outputs": [
    {
     "name": "stderr",
     "output_type": "stream",
     "text": [
      "/var/folders/b8/k4y3h5991wjcdwnm2lfrm09h0000gn/T/ipykernel_3954/3644769364.py:1: LangChainDeprecationWarning: The class `Chroma` was deprecated in LangChain 0.2.9 and will be removed in 1.0. An updated version of the class exists in the :class:`~langchain-chroma package and should be used instead. To use it run `pip install -U :class:`~langchain-chroma` and import as `from :class:`~langchain_chroma import Chroma``.\n",
      "  db = Chroma(persist_directory='./chroma', embedding_function=embedding_llm,\n"
     ]
    }
   ],
   "source": [
    "db = Chroma(persist_directory='./chroma', embedding_function=embedding_llm,\n",
    "            collection_name=\"planetbucks\")"
   ]
  },
  {
   "cell_type": "code",
   "execution_count": 18,
   "metadata": {},
   "outputs": [
    {
     "name": "stdout",
     "output_type": "stream",
     "text": [
      "4\n"
     ]
    }
   ],
   "source": [
    "query = \"opening hours\"\n",
    "result = db.similarity_search_with_relevance_scores(query)\n",
    "print(len(result))"
   ]
  },
  {
   "cell_type": "code",
   "execution_count": 19,
   "metadata": {},
   "outputs": [
    {
     "data": {
      "text/plain": [
       "[(Document(metadata={'source': '/Users/vinitpahwa/Documents/GENAIProjects/customer-chatbot-demo-langchain/docs/general_info.txt'}, page_content='Shop Name: PlanetBucks\\nWhat we sell: coffee drinks and coffee bean\\n\\nOperating time:\\nMonday to Friday 7 am - 8 pm\\nSaturday, Sunday, National Holiday 9 am - 4 pm\\n\\nAddress: ชั้น G ห้าง Emquartier สุขุมวิท กรุงเทพฯ\\nBranch 1: Icon Siam Mall, Third Floor, South Wing, Bangkok, Thailand\\nBranch 2: 103th Floor, Empire State Building, NYC\\n\\nPayment: cash, credit card, square, bitcoin'),\n",
       "  0.7053169136827597),\n",
       " (Document(metadata={'source': '/Users/vinitpahwa/Documents/GENAIProjects/customer-chatbot-demo-langchain/docs/menu_price.csv'}, page_content='\\ufeffTable of Drink Menu,,\\nCoffee Drink,Small Size Price ($),Large Size Price ($)\\nEspresso,2.00,3.00\\nAmericano,2.50,3.50\\nCappuccino,3.00,4.50\\nLatte,3.50,5.00\\nMocha,4.00,5.50\\n,,\\nTable of Add-on items or change,,\\nIce,0.50,\\nOat milk,1.00,\\nSoy milk,0.75,'),\n",
       "  0.6431774190226602),\n",
       " (Document(metadata={'source': '/Users/vinitpahwa/Documents/GENAIProjects/customer-chatbot-demo-langchain/docs/coffee_bean_menu.csv'}, page_content='\\ufeffTopic,Geisha,Yirgacheffe,Blue Mountain,Sumatra Mandheling\\nOrigin,\"Hacienda La Esmeralda, Panama\",\"Yirgacheffe region, Ethiopia\",\"Blue Mountains, Jamaica\",\"Mandheling, Sumatra, Indonesia\"\\nAltitude (meters),\"1,500-2,000\",\"1,700-2,200\",\"910-1,700\",\"1,000-1,500\"\\nFlavor Profile,\"Jasmine, bergamot, honey, peaches, berries\",\"Floral, lemon, bergamot, jasmine, honey\",\"Sweet herbs, nuts, chocolate\",\"Dark chocolate, cedar, tropical fruit\"\\nAcidity,Bright,Vibrant,Mild,Low\\nBody,Delicate,Light-Medium,Smooth,Full\\nAftertaste,Sweet,\"Clean, sweet\",\"Clean, chocolatey\",Spicy\\nProcessing Method,Washed,Washed,Wet-processed,Giling Basah\\nRoast Level,Light-Medium,Light-Medium,Medium,Medium-Dark\\nRecommended Brewing Methods,\"Pour-over, Chemex, Aeropress\",\"Pour-over, cold brew, drip\",\"Drip, French press\",\"Espresso, French press\"\\nPackaging (oz/g),12 oz (340g),12 oz (340g),16 oz (454g),12 oz (340g)\\nPrice ($ per bag),$50,$30,$40,$25\\nCertifications,\"Direct Trade, Rainforest Alliance\",\"Organic, Fair Trade\",100% Certified,Rainforest Alliance\\nAwards,Best of Panama winner,Global recognition,One of the best globally,Distinctive taste'),\n",
       "  0.6201977378473398),\n",
       " (Document(metadata={'source': '/Users/vinitpahwa/Documents/GENAIProjects/customer-chatbot-demo-langchain/docs/product_factsheets/sumatra_mandheling.txt'}, page_content='Sumatra Mandheling Coffee Beans - The Heart of Indonesia\\n\\nOrigin: Sourced from the lush Mandheling region of North Sumatra, Indonesia, where coffee is cultivated with care and tradition.\\nAltitude: Grown at 1,000 to 1,500 meters, ideal for developing its signature deep and earthy flavors.\\nTaste Profile: A robust cup with a profile of dark chocolate and cedar, complemented by a hint of tropical fruit. Features low acidity, a full body, and a spicy aftertaste.\\nProcessing: Utilizes the Giling Basah method, distinctive to Indonesian coffee, enhancing its unique characteristics.\\nRoast Level: Medium to dark roast, perfect for bringing out its bold and rich flavors.\\nBrewing Recommendations: Best enjoyed in espresso or French press, where its complexity can be fully appreciated.\\nPackaging: 12 oz (340g) bags, prioritizing freshness.\\nPrice: $25 per bag, reflecting the premium quality and the unique coffee experience it offers.\\nCertifications: Rainforest Alliance Certified, affirming a commitment to sustainability.\\nAwards: Recognized for its distinctive taste profile and high quality by coffee connoisseurs.'),\n",
       "  0.6035488210233558)]"
      ]
     },
     "execution_count": 19,
     "metadata": {},
     "output_type": "execute_result"
    }
   ],
   "source": [
    "result"
   ]
  },
  {
   "cell_type": "code",
   "execution_count": 20,
   "metadata": {},
   "outputs": [
    {
     "name": "stdout",
     "output_type": "stream",
     "text": [
      "2\n"
     ]
    }
   ],
   "source": [
    "result = db.similarity_search_with_relevance_scores(query, k=2)\n",
    "print(len(result))"
   ]
  },
  {
   "cell_type": "code",
   "execution_count": 21,
   "metadata": {},
   "outputs": [
    {
     "data": {
      "text/plain": [
       "[(Document(metadata={'source': '/Users/vinitpahwa/Documents/GENAIProjects/customer-chatbot-demo-langchain/docs/general_info.txt'}, page_content='Shop Name: PlanetBucks\\nWhat we sell: coffee drinks and coffee bean\\n\\nOperating time:\\nMonday to Friday 7 am - 8 pm\\nSaturday, Sunday, National Holiday 9 am - 4 pm\\n\\nAddress: ชั้น G ห้าง Emquartier สุขุมวิท กรุงเทพฯ\\nBranch 1: Icon Siam Mall, Third Floor, South Wing, Bangkok, Thailand\\nBranch 2: 103th Floor, Empire State Building, NYC\\n\\nPayment: cash, credit card, square, bitcoin'),\n",
       "  0.7053169136827597),\n",
       " (Document(metadata={'source': '/Users/vinitpahwa/Documents/GENAIProjects/customer-chatbot-demo-langchain/docs/menu_price.csv'}, page_content='\\ufeffTable of Drink Menu,,\\nCoffee Drink,Small Size Price ($),Large Size Price ($)\\nEspresso,2.00,3.00\\nAmericano,2.50,3.50\\nCappuccino,3.00,4.50\\nLatte,3.50,5.00\\nMocha,4.00,5.50\\n,,\\nTable of Add-on items or change,,\\nIce,0.50,\\nOat milk,1.00,\\nSoy milk,0.75,'),\n",
       "  0.6431774190226602)]"
      ]
     },
     "execution_count": 21,
     "metadata": {},
     "output_type": "execute_result"
    }
   ],
   "source": [
    "result"
   ]
  },
  {
   "cell_type": "markdown",
   "metadata": {},
   "source": [
    "MMR (Maximum marginal relevance)\n",
    "MMR = iteratively find documents that are dissimilar to previous results.\n",
    "It could improve performance for retrievals."
   ]
  },
  {
   "cell_type": "code",
   "execution_count": 22,
   "metadata": {},
   "outputs": [
    {
     "name": "stderr",
     "output_type": "stream",
     "text": [
      "Number of requested results 20 is greater than number of elements in index 7, updating n_results = 7\n"
     ]
    },
    {
     "data": {
      "text/plain": [
       "[Document(metadata={'source': '/Users/vinitpahwa/Documents/GENAIProjects/customer-chatbot-demo-langchain/docs/general_info.txt'}, page_content='Shop Name: PlanetBucks\\nWhat we sell: coffee drinks and coffee bean\\n\\nOperating time:\\nMonday to Friday 7 am - 8 pm\\nSaturday, Sunday, National Holiday 9 am - 4 pm\\n\\nAddress: ชั้น G ห้าง Emquartier สุขุมวิท กรุงเทพฯ\\nBranch 1: Icon Siam Mall, Third Floor, South Wing, Bangkok, Thailand\\nBranch 2: 103th Floor, Empire State Building, NYC\\n\\nPayment: cash, credit card, square, bitcoin'),\n",
       " Document(metadata={'source': '/Users/vinitpahwa/Documents/GENAIProjects/customer-chatbot-demo-langchain/docs/product_factsheets/yirgacheffe.txt'}, page_content=\"Yirgacheffe Coffee Beans - The Essence of Ethiopia\\n\\nOrigin: Sourced from the esteemed Yirgacheffe region within Sidamo, Ethiopia, where coffee cultivation is an art passed down through generations.\\nAltitude: Cultivated at 1,700 to 2,200 meters, the ideal range for developing its signature floral and citrus notes.\\nTaste Profile: A delightful floral bouquet with a citrusy twist, featuring lemon and bergamot, and accented by jasmine and honey. Exhibits a bright acidity and a light to medium body, culminating in a refreshingly sweet aftertaste.\\nProcessing: Washed processing enhances its inherent clarity and exquisite floral undertones.\\nRoast Level: Optimal light to medium roast to preserve the bean's delicate flavors.\\nBrewing Recommendations: Best experienced through pour-over, cold brew, or drip coffee, allowing its unique characteristics to shine.\\nPackaging: 12 oz (340g) bags designed with the environment in mind.\\nPrice: $30 per bag, a tribute to its premium quality and the intricate care involved in its production.\\nCertifications: Proudly Organic and Fair Trade certified, supporting ethical and sustainable coffee farming.\\nAwards: Celebrated for its unique flavor profile and quality, both in Ethiopia and internationally.\")]"
      ]
     },
     "execution_count": 22,
     "metadata": {},
     "output_type": "execute_result"
    }
   ],
   "source": [
    "db.max_marginal_relevance_search(query, k=2)"
   ]
  },
  {
   "cell_type": "code",
   "execution_count": 23,
   "metadata": {},
   "outputs": [],
   "source": [
    "retriever = db.as_retriever(search_type='mmr', search_kwargs={'k': 2, 'fetch_k': 5})"
   ]
  },
  {
   "cell_type": "code",
   "execution_count": 24,
   "metadata": {},
   "outputs": [
    {
     "data": {
      "text/plain": [
       "[Document(metadata={'source': '/Users/vinitpahwa/Documents/GENAIProjects/customer-chatbot-demo-langchain/docs/general_info.txt'}, page_content='Shop Name: PlanetBucks\\nWhat we sell: coffee drinks and coffee bean\\n\\nOperating time:\\nMonday to Friday 7 am - 8 pm\\nSaturday, Sunday, National Holiday 9 am - 4 pm\\n\\nAddress: ชั้น G ห้าง Emquartier สุขุมวิท กรุงเทพฯ\\nBranch 1: Icon Siam Mall, Third Floor, South Wing, Bangkok, Thailand\\nBranch 2: 103th Floor, Empire State Building, NYC\\n\\nPayment: cash, credit card, square, bitcoin'),\n",
       " Document(metadata={'source': '/Users/vinitpahwa/Documents/GENAIProjects/customer-chatbot-demo-langchain/docs/coffee_bean_menu.csv'}, page_content='\\ufeffTopic,Geisha,Yirgacheffe,Blue Mountain,Sumatra Mandheling\\nOrigin,\"Hacienda La Esmeralda, Panama\",\"Yirgacheffe region, Ethiopia\",\"Blue Mountains, Jamaica\",\"Mandheling, Sumatra, Indonesia\"\\nAltitude (meters),\"1,500-2,000\",\"1,700-2,200\",\"910-1,700\",\"1,000-1,500\"\\nFlavor Profile,\"Jasmine, bergamot, honey, peaches, berries\",\"Floral, lemon, bergamot, jasmine, honey\",\"Sweet herbs, nuts, chocolate\",\"Dark chocolate, cedar, tropical fruit\"\\nAcidity,Bright,Vibrant,Mild,Low\\nBody,Delicate,Light-Medium,Smooth,Full\\nAftertaste,Sweet,\"Clean, sweet\",\"Clean, chocolatey\",Spicy\\nProcessing Method,Washed,Washed,Wet-processed,Giling Basah\\nRoast Level,Light-Medium,Light-Medium,Medium,Medium-Dark\\nRecommended Brewing Methods,\"Pour-over, Chemex, Aeropress\",\"Pour-over, cold brew, drip\",\"Drip, French press\",\"Espresso, French press\"\\nPackaging (oz/g),12 oz (340g),12 oz (340g),16 oz (454g),12 oz (340g)\\nPrice ($ per bag),$50,$30,$40,$25\\nCertifications,\"Direct Trade, Rainforest Alliance\",\"Organic, Fair Trade\",100% Certified,Rainforest Alliance\\nAwards,Best of Panama winner,Global recognition,One of the best globally,Distinctive taste')]"
      ]
     },
     "execution_count": 24,
     "metadata": {},
     "output_type": "execute_result"
    }
   ],
   "source": [
    "retriever.invoke(query)"
   ]
  },
  {
   "cell_type": "code",
   "execution_count": 25,
   "metadata": {},
   "outputs": [],
   "source": [
    "retriever_tool = create_retriever_tool(\n",
    "    db.as_retriever(search_type='mmr'),\n",
    "    name = \"planetbucks_search\",\n",
    "    description = \"\"\"Search for information about PlanetBucks store, including general information, \n",
    "    coffee drink menus, specialty coffee beans menu, and bean fact sheet.\"\"\",\n",
    ")"
   ]
  },
  {
   "cell_type": "code",
   "execution_count": 26,
   "metadata": {},
   "outputs": [],
   "source": [
    "from langchain_openai import ChatOpenAI\n",
    "from langchain.prompts import ChatPromptTemplate\n",
    "\n",
    "llm = ChatOpenAI(model=\"gpt-3.5-turbo\", temperature=0, openai_api_key=openai_api_key)"
   ]
  },
  {
   "cell_type": "code",
   "execution_count": 27,
   "metadata": {},
   "outputs": [],
   "source": [
    "system_message = \"\"\"You are a helpful assistant working at a coffee shop.\n",
    "You can use a given chat history and given tools to respond to a user.\n",
    "Your character is a polite and friendly female.\n",
    "You answer concisely, without introduction or appending.\n",
    "If you do not know the answer, just say 'I do not know.'\n",
    "When you calculate the price of an ordered item, you should think step-by-step.\n",
    "\"\"\""
   ]
  },
  {
   "cell_type": "code",
   "execution_count": 28,
   "metadata": {},
   "outputs": [],
   "source": [
    "prompt = ChatPromptTemplate.from_messages(\n",
    "    [\n",
    "        SystemMessagePromptTemplate(prompt=PromptTemplate(input_variables=[], template=system_message)),\n",
    "        MessagesPlaceholder(\n",
    "            variable_name=\"chat_history\", optional=True\n",
    "        ),  # Where the memory will be stored.\n",
    "        HumanMessagePromptTemplate.from_template(\n",
    "            \"{input}\"\n",
    "        ),  # Where the human input will injected\n",
    "        MessagesPlaceholder(\n",
    "            variable_name=\"agent_scratchpad\"\n",
    "        ),  # Where the memory will be stored.\n",
    "    ]\n",
    ")"
   ]
  },
  {
   "cell_type": "code",
   "execution_count": 29,
   "metadata": {},
   "outputs": [],
   "source": [
    "tools = [retriever_tool, ]"
   ]
  },
  {
   "cell_type": "code",
   "execution_count": 30,
   "metadata": {},
   "outputs": [
    {
     "name": "stderr",
     "output_type": "stream",
     "text": [
      "/var/folders/b8/k4y3h5991wjcdwnm2lfrm09h0000gn/T/ipykernel_3954/549322652.py:6: LangChainDeprecationWarning: Please see the migration guide at: https://python.langchain.com/docs/versions/migrating_memory/\n",
      "  memory = ConversationBufferMemory(memory_key=\"chat_history\", return_messages=True)\n"
     ]
    }
   ],
   "source": [
    "from langchain.agents import AgentExecutor, create_openai_tools_agent, create_openai_functions_agent\n",
    "from langchain.memory import ConversationBufferMemory\n",
    "\n",
    "agent = create_openai_functions_agent(llm, tools, prompt,)\n",
    "\n",
    "memory = ConversationBufferMemory(memory_key=\"chat_history\", return_messages=True)\n",
    "\n",
    "agent_executor = AgentExecutor(agent=agent, tools=tools, verbose=True, memory=memory)"
   ]
  },
  {
   "cell_type": "code",
   "execution_count": 31,
   "metadata": {},
   "outputs": [],
   "source": [
    "def wrapper_chat_history(chat_history, memory):\n",
    "    chat_history = []\n",
    "    for m in memory.chat_memory.messages:\n",
    "        chat_history.append(m.content)\n",
    "    return chat_history"
   ]
  },
  {
   "cell_type": "code",
   "execution_count": 32,
   "metadata": {},
   "outputs": [],
   "source": [
    "def converse(message, chat_history):\n",
    "    response = agent_executor.invoke({\"input\": message})\n",
    "    chat_history = wrapper_chat_history(chat_history, memory)\n",
    "    return response['output']"
   ]
  },
  {
   "cell_type": "code",
   "execution_count": null,
   "metadata": {},
   "outputs": [
    {
     "name": "stderr",
     "output_type": "stream",
     "text": [
      "/opt/anaconda3/envs/chatenv/lib/python3.10/site-packages/tqdm/auto.py:21: TqdmWarning: IProgress not found. Please update jupyter and ipywidgets. See https://ipywidgets.readthedocs.io/en/stable/user_install.html\n",
      "  from .autonotebook import tqdm as notebook_tqdm\n",
      "/opt/anaconda3/envs/chatenv/lib/python3.10/site-packages/gradio/components/chatbot.py:231: UserWarning: The 'tuples' format for chatbot messages is deprecated and will be removed in a future version of Gradio. Please set type='messages' instead, which uses openai-style 'role' and 'content' keys.\n",
      "  warnings.warn(\n"
     ]
    },
    {
     "name": "stdout",
     "output_type": "stream",
     "text": [
      "* Running on local URL:  http://127.0.0.1:7860\n",
      "\n",
      "To create a public link, set `share=True` in `launch()`.\n"
     ]
    },
    {
     "data": {
      "text/html": [
       "<div><iframe src=\"http://127.0.0.1:7860/\" width=\"100%\" height=\"500\" allow=\"autoplay; camera; microphone; clipboard-read; clipboard-write;\" frameborder=\"0\" allowfullscreen></iframe></div>"
      ],
      "text/plain": [
       "<IPython.core.display.HTML object>"
      ]
     },
     "metadata": {},
     "output_type": "display_data"
    },
    {
     "data": {
      "text/plain": []
     },
     "execution_count": 34,
     "metadata": {},
     "output_type": "execute_result"
    },
    {
     "name": "stdout",
     "output_type": "stream",
     "text": [
      "\n",
      "\n",
      "\u001b[1m> Entering new AgentExecutor chain...\u001b[0m\n",
      "\u001b[32;1m\u001b[1;3mHello! How can I assist you today?\u001b[0m\n",
      "\n",
      "\u001b[1m> Finished chain.\u001b[0m\n",
      "\n",
      "\n",
      "\u001b[1m> Entering new AgentExecutor chain...\u001b[0m\n",
      "\u001b[32;1m\u001b[1;3mCoffee is a popular beverage made from roasted coffee beans, which are the seeds of berries from the Coffea plant. It is typically brewed by extracting flavors from the ground beans with hot water.\u001b[0m\n",
      "\n",
      "\u001b[1m> Finished chain.\u001b[0m\n",
      "\n",
      "\n",
      "\u001b[1m> Entering new AgentExecutor chain...\u001b[0m\n",
      "\u001b[32;1m\u001b[1;3mCoffee shops can be found in various locations such as shopping centers, downtown areas, neighborhoods, and even standalone buildings. You can use online maps or directories to locate coffee shops near you.\u001b[0m\n",
      "\n",
      "\u001b[1m> Finished chain.\u001b[0m\n",
      "\n",
      "\n",
      "\u001b[1m> Entering new AgentExecutor chain...\u001b[0m\n",
      "\u001b[32;1m\u001b[1;3m\n",
      "Invoking: `planetbucks_search` with `{'query': 'best coffee bean'}`\n",
      "\n",
      "\n",
      "\u001b[0m"
     ]
    },
    {
     "name": "stderr",
     "output_type": "stream",
     "text": [
      "Number of requested results 20 is greater than number of elements in index 7, updating n_results = 7\n"
     ]
    },
    {
     "name": "stdout",
     "output_type": "stream",
     "text": [
      "\u001b[36;1m\u001b[1;3mBlue Mountain Coffee Beans - The Jewel of Jamaica\n",
      "\n",
      "Origin: Cultivated in the revered Blue Mountains of Jamaica, from estates that meet the highest standards of quality.\n",
      "Altitude: Thrives at altitudes of 910 to 1,700 meters, where the climate is perfect for developing its signature flavors.\n",
      "Taste Profile: A rare blend of sweet herbs and nuts, complemented by a chocolate undertone. It boasts a mild acidity, a smooth body, and a clean, sweet aftertaste.\n",
      "Processing: Wet-processed to enhance its smooth and clean profile.\n",
      "Roast Level: Medium roast, optimizing its mild and unique flavors.\n",
      "Brewing Recommendations: Ideal for drip coffee makers and French press, where its subtle complexities can be savored.\n",
      "Packaging: 16 oz (454g) vacuum-sealed bags for maximum freshness.\n",
      "Price: $40 per bag, a testament to its unparalleled quality and heritage.\n",
      "Certifications: Officially certified as 100% Blue Mountain Coffee, ensuring authenticity and excellence.\n",
      "Awards: Renowned worldwide for its exceptional quality and exquisite taste.\n",
      "\n",
      "Sumatra Mandheling Coffee Beans - The Heart of Indonesia\n",
      "\n",
      "Origin: Sourced from the lush Mandheling region of North Sumatra, Indonesia, where coffee is cultivated with care and tradition.\n",
      "Altitude: Grown at 1,000 to 1,500 meters, ideal for developing its signature deep and earthy flavors.\n",
      "Taste Profile: A robust cup with a profile of dark chocolate and cedar, complemented by a hint of tropical fruit. Features low acidity, a full body, and a spicy aftertaste.\n",
      "Processing: Utilizes the Giling Basah method, distinctive to Indonesian coffee, enhancing its unique characteristics.\n",
      "Roast Level: Medium to dark roast, perfect for bringing out its bold and rich flavors.\n",
      "Brewing Recommendations: Best enjoyed in espresso or French press, where its complexity can be fully appreciated.\n",
      "Packaging: 12 oz (340g) bags, prioritizing freshness.\n",
      "Price: $25 per bag, reflecting the premium quality and the unique coffee experience it offers.\n",
      "Certifications: Rainforest Alliance Certified, affirming a commitment to sustainability.\n",
      "Awards: Recognized for its distinctive taste profile and high quality by coffee connoisseurs.\n",
      "\n",
      "Geisha Coffee Beans - Hacienda La Esmeralda\n",
      "\n",
      "Origin: Boquete, Panama, from Hacienda La Esmeralda, renowned for producing award-winning Geisha coffee.\n",
      "Altitude: Grown at elevations of 1,500 to 2,000 meters, ideal for developing the bean's distinctive flavors.\n",
      "Taste Profile: A harmonious blend of jasmine and bergamot aromas, complemented by flavors of honey, peaches, and wild berries. The coffee boasts a bright acidity, a delicate body, and a sweet, lingering aftertaste.\n",
      "Processing: Washed process, highlighting its sweetness and intricate floral notes.\n",
      "Roast Level: Light to medium roast, perfect for preserving the bean's unique flavors.\n",
      "Brewing Recommendations: Best enjoyed using pour-over, Chemex, or Aeropress methods to savor its complex profile.\n",
      "Packaging: 12 oz (340g) eco-friendly, resealable bags.\n",
      "Price: $50 per bag, a testament to its exceptional quality and exclusivity.\n",
      "Certifications: Direct Trade, Rainforest Alliance Certified, ensuring sustainability and fair trade practices.\n",
      "Awards: Celebrated for its outstanding quality with multiple wins in the Best of Panama competition.\n",
      "\n",
      "Shop Name: PlanetBucks\n",
      "What we sell: coffee drinks and coffee bean\n",
      "\n",
      "Operating time:\n",
      "Monday to Friday 7 am - 8 pm\n",
      "Saturday, Sunday, National Holiday 9 am - 4 pm\n",
      "\n",
      "Address: ชั้น G ห้าง Emquartier สุขุมวิท กรุงเทพฯ\n",
      "Branch 1: Icon Siam Mall, Third Floor, South Wing, Bangkok, Thailand\n",
      "Branch 2: 103th Floor, Empire State Building, NYC\n",
      "\n",
      "Payment: cash, credit card, square, bitcoin\u001b[0m\u001b[32;1m\u001b[1;3mSome of the best coffee beans include Blue Mountain Coffee Beans from Jamaica, Sumatra Mandheling Coffee Beans from Indonesia, and Geisha Coffee Beans from Panama. Each of these beans offers unique flavors and characteristics that coffee enthusiasts appreciate.\u001b[0m\n",
      "\n",
      "\u001b[1m> Finished chain.\u001b[0m\n",
      "\n",
      "\n",
      "\u001b[1m> Entering new AgentExecutor chain...\u001b[0m\n",
      "\u001b[32;1m\u001b[1;3m\n",
      "Invoking: `planetbucks_search` with `{'query': 'coffee bean prices'}`\n",
      "\n",
      "\n",
      "\u001b[0m"
     ]
    },
    {
     "name": "stderr",
     "output_type": "stream",
     "text": [
      "Number of requested results 20 is greater than number of elements in index 7, updating n_results = 7\n"
     ]
    },
    {
     "name": "stdout",
     "output_type": "stream",
     "text": [
      "\u001b[36;1m\u001b[1;3mBlue Mountain Coffee Beans - The Jewel of Jamaica\n",
      "\n",
      "Origin: Cultivated in the revered Blue Mountains of Jamaica, from estates that meet the highest standards of quality.\n",
      "Altitude: Thrives at altitudes of 910 to 1,700 meters, where the climate is perfect for developing its signature flavors.\n",
      "Taste Profile: A rare blend of sweet herbs and nuts, complemented by a chocolate undertone. It boasts a mild acidity, a smooth body, and a clean, sweet aftertaste.\n",
      "Processing: Wet-processed to enhance its smooth and clean profile.\n",
      "Roast Level: Medium roast, optimizing its mild and unique flavors.\n",
      "Brewing Recommendations: Ideal for drip coffee makers and French press, where its subtle complexities can be savored.\n",
      "Packaging: 16 oz (454g) vacuum-sealed bags for maximum freshness.\n",
      "Price: $40 per bag, a testament to its unparalleled quality and heritage.\n",
      "Certifications: Officially certified as 100% Blue Mountain Coffee, ensuring authenticity and excellence.\n",
      "Awards: Renowned worldwide for its exceptional quality and exquisite taste.\n",
      "\n",
      "﻿Table of Drink Menu,,\n",
      "Coffee Drink,Small Size Price ($),Large Size Price ($)\n",
      "Espresso,2.00,3.00\n",
      "Americano,2.50,3.50\n",
      "Cappuccino,3.00,4.50\n",
      "Latte,3.50,5.00\n",
      "Mocha,4.00,5.50\n",
      ",,\n",
      "Table of Add-on items or change,,\n",
      "Ice,0.50,\n",
      "Oat milk,1.00,\n",
      "Soy milk,0.75,\n",
      "\n",
      "Geisha Coffee Beans - Hacienda La Esmeralda\n",
      "\n",
      "Origin: Boquete, Panama, from Hacienda La Esmeralda, renowned for producing award-winning Geisha coffee.\n",
      "Altitude: Grown at elevations of 1,500 to 2,000 meters, ideal for developing the bean's distinctive flavors.\n",
      "Taste Profile: A harmonious blend of jasmine and bergamot aromas, complemented by flavors of honey, peaches, and wild berries. The coffee boasts a bright acidity, a delicate body, and a sweet, lingering aftertaste.\n",
      "Processing: Washed process, highlighting its sweetness and intricate floral notes.\n",
      "Roast Level: Light to medium roast, perfect for preserving the bean's unique flavors.\n",
      "Brewing Recommendations: Best enjoyed using pour-over, Chemex, or Aeropress methods to savor its complex profile.\n",
      "Packaging: 12 oz (340g) eco-friendly, resealable bags.\n",
      "Price: $50 per bag, a testament to its exceptional quality and exclusivity.\n",
      "Certifications: Direct Trade, Rainforest Alliance Certified, ensuring sustainability and fair trade practices.\n",
      "Awards: Celebrated for its outstanding quality with multiple wins in the Best of Panama competition.\n",
      "\n",
      "Shop Name: PlanetBucks\n",
      "What we sell: coffee drinks and coffee bean\n",
      "\n",
      "Operating time:\n",
      "Monday to Friday 7 am - 8 pm\n",
      "Saturday, Sunday, National Holiday 9 am - 4 pm\n",
      "\n",
      "Address: ชั้น G ห้าง Emquartier สุขุมวิท กรุงเทพฯ\n",
      "Branch 1: Icon Siam Mall, Third Floor, South Wing, Bangkok, Thailand\n",
      "Branch 2: 103th Floor, Empire State Building, NYC\n",
      "\n",
      "Payment: cash, credit card, square, bitcoin\u001b[0m\u001b[32;1m\u001b[1;3mThe Blue Mountain Coffee Beans are priced at $40 per bag, while the Geisha Coffee Beans are priced at $50 per bag.\u001b[0m\n",
      "\n",
      "\u001b[1m> Finished chain.\u001b[0m\n",
      "\n",
      "\n",
      "\u001b[1m> Entering new AgentExecutor chain...\u001b[0m\n",
      "\u001b[32;1m\u001b[1;3mThe operating hours of coffee shops can vary depending on the location and day of the week. It's best to check the specific coffee shop's website or contact them directly for their operating hours.\u001b[0m\n",
      "\n",
      "\u001b[1m> Finished chain.\u001b[0m\n",
      "\n",
      "\n",
      "\u001b[1m> Entering new AgentExecutor chain...\u001b[0m\n",
      "\u001b[32;1m\u001b[1;3mThe shop name is PlanetBucks.\u001b[0m\n",
      "\n",
      "\u001b[1m> Finished chain.\u001b[0m\n",
      "\n",
      "\n",
      "\u001b[1m> Entering new AgentExecutor chain...\u001b[0m\n",
      "\u001b[32;1m\u001b[1;3m\n",
      "Invoking: `planetbucks_search` with `{'query': 'location'}`\n",
      "\n",
      "\n",
      "\u001b[0m"
     ]
    },
    {
     "name": "stderr",
     "output_type": "stream",
     "text": [
      "Number of requested results 20 is greater than number of elements in index 7, updating n_results = 7\n"
     ]
    },
    {
     "name": "stdout",
     "output_type": "stream",
     "text": [
      "\u001b[36;1m\u001b[1;3m﻿Topic,Geisha,Yirgacheffe,Blue Mountain,Sumatra Mandheling\n",
      "Origin,\"Hacienda La Esmeralda, Panama\",\"Yirgacheffe region, Ethiopia\",\"Blue Mountains, Jamaica\",\"Mandheling, Sumatra, Indonesia\"\n",
      "Altitude (meters),\"1,500-2,000\",\"1,700-2,200\",\"910-1,700\",\"1,000-1,500\"\n",
      "Flavor Profile,\"Jasmine, bergamot, honey, peaches, berries\",\"Floral, lemon, bergamot, jasmine, honey\",\"Sweet herbs, nuts, chocolate\",\"Dark chocolate, cedar, tropical fruit\"\n",
      "Acidity,Bright,Vibrant,Mild,Low\n",
      "Body,Delicate,Light-Medium,Smooth,Full\n",
      "Aftertaste,Sweet,\"Clean, sweet\",\"Clean, chocolatey\",Spicy\n",
      "Processing Method,Washed,Washed,Wet-processed,Giling Basah\n",
      "Roast Level,Light-Medium,Light-Medium,Medium,Medium-Dark\n",
      "Recommended Brewing Methods,\"Pour-over, Chemex, Aeropress\",\"Pour-over, cold brew, drip\",\"Drip, French press\",\"Espresso, French press\"\n",
      "Packaging (oz/g),12 oz (340g),12 oz (340g),16 oz (454g),12 oz (340g)\n",
      "Price ($ per bag),$50,$30,$40,$25\n",
      "Certifications,\"Direct Trade, Rainforest Alliance\",\"Organic, Fair Trade\",100% Certified,Rainforest Alliance\n",
      "Awards,Best of Panama winner,Global recognition,One of the best globally,Distinctive taste\n",
      "\n",
      "Shop Name: PlanetBucks\n",
      "What we sell: coffee drinks and coffee bean\n",
      "\n",
      "Operating time:\n",
      "Monday to Friday 7 am - 8 pm\n",
      "Saturday, Sunday, National Holiday 9 am - 4 pm\n",
      "\n",
      "Address: ชั้น G ห้าง Emquartier สุขุมวิท กรุงเทพฯ\n",
      "Branch 1: Icon Siam Mall, Third Floor, South Wing, Bangkok, Thailand\n",
      "Branch 2: 103th Floor, Empire State Building, NYC\n",
      "\n",
      "Payment: cash, credit card, square, bitcoin\n",
      "\n",
      "﻿Table of Drink Menu,,\n",
      "Coffee Drink,Small Size Price ($),Large Size Price ($)\n",
      "Espresso,2.00,3.00\n",
      "Americano,2.50,3.50\n",
      "Cappuccino,3.00,4.50\n",
      "Latte,3.50,5.00\n",
      "Mocha,4.00,5.50\n",
      ",,\n",
      "Table of Add-on items or change,,\n",
      "Ice,0.50,\n",
      "Oat milk,1.00,\n",
      "Soy milk,0.75,\n",
      "\n",
      "Sumatra Mandheling Coffee Beans - The Heart of Indonesia\n",
      "\n",
      "Origin: Sourced from the lush Mandheling region of North Sumatra, Indonesia, where coffee is cultivated with care and tradition.\n",
      "Altitude: Grown at 1,000 to 1,500 meters, ideal for developing its signature deep and earthy flavors.\n",
      "Taste Profile: A robust cup with a profile of dark chocolate and cedar, complemented by a hint of tropical fruit. Features low acidity, a full body, and a spicy aftertaste.\n",
      "Processing: Utilizes the Giling Basah method, distinctive to Indonesian coffee, enhancing its unique characteristics.\n",
      "Roast Level: Medium to dark roast, perfect for bringing out its bold and rich flavors.\n",
      "Brewing Recommendations: Best enjoyed in espresso or French press, where its complexity can be fully appreciated.\n",
      "Packaging: 12 oz (340g) bags, prioritizing freshness.\n",
      "Price: $25 per bag, reflecting the premium quality and the unique coffee experience it offers.\n",
      "Certifications: Rainforest Alliance Certified, affirming a commitment to sustainability.\n",
      "Awards: Recognized for its distinctive taste profile and high quality by coffee connoisseurs.\u001b[0m\u001b[32;1m\u001b[1;3mPlanetBucks coffee shop has two branches located at the Icon Siam Mall, Third Floor, South Wing in Bangkok, Thailand, and the 103rd Floor of the Empire State Building in NYC.\u001b[0m\n",
      "\n",
      "\u001b[1m> Finished chain.\u001b[0m\n",
      "\n",
      "\n",
      "\u001b[1m> Entering new AgentExecutor chain...\u001b[0m\n",
      "\u001b[32;1m\u001b[1;3m\n",
      "Invoking: `planetbucks_search` with `{'query': 'coffee menu'}`\n",
      "\n",
      "\n",
      "\u001b[0m"
     ]
    },
    {
     "name": "stderr",
     "output_type": "stream",
     "text": [
      "Number of requested results 20 is greater than number of elements in index 7, updating n_results = 7\n"
     ]
    },
    {
     "name": "stdout",
     "output_type": "stream",
     "text": [
      "\u001b[36;1m\u001b[1;3m﻿Table of Drink Menu,,\n",
      "Coffee Drink,Small Size Price ($),Large Size Price ($)\n",
      "Espresso,2.00,3.00\n",
      "Americano,2.50,3.50\n",
      "Cappuccino,3.00,4.50\n",
      "Latte,3.50,5.00\n",
      "Mocha,4.00,5.50\n",
      ",,\n",
      "Table of Add-on items or change,,\n",
      "Ice,0.50,\n",
      "Oat milk,1.00,\n",
      "Soy milk,0.75,\n",
      "\n",
      "Blue Mountain Coffee Beans - The Jewel of Jamaica\n",
      "\n",
      "Origin: Cultivated in the revered Blue Mountains of Jamaica, from estates that meet the highest standards of quality.\n",
      "Altitude: Thrives at altitudes of 910 to 1,700 meters, where the climate is perfect for developing its signature flavors.\n",
      "Taste Profile: A rare blend of sweet herbs and nuts, complemented by a chocolate undertone. It boasts a mild acidity, a smooth body, and a clean, sweet aftertaste.\n",
      "Processing: Wet-processed to enhance its smooth and clean profile.\n",
      "Roast Level: Medium roast, optimizing its mild and unique flavors.\n",
      "Brewing Recommendations: Ideal for drip coffee makers and French press, where its subtle complexities can be savored.\n",
      "Packaging: 16 oz (454g) vacuum-sealed bags for maximum freshness.\n",
      "Price: $40 per bag, a testament to its unparalleled quality and heritage.\n",
      "Certifications: Officially certified as 100% Blue Mountain Coffee, ensuring authenticity and excellence.\n",
      "Awards: Renowned worldwide for its exceptional quality and exquisite taste.\n",
      "\n",
      "Geisha Coffee Beans - Hacienda La Esmeralda\n",
      "\n",
      "Origin: Boquete, Panama, from Hacienda La Esmeralda, renowned for producing award-winning Geisha coffee.\n",
      "Altitude: Grown at elevations of 1,500 to 2,000 meters, ideal for developing the bean's distinctive flavors.\n",
      "Taste Profile: A harmonious blend of jasmine and bergamot aromas, complemented by flavors of honey, peaches, and wild berries. The coffee boasts a bright acidity, a delicate body, and a sweet, lingering aftertaste.\n",
      "Processing: Washed process, highlighting its sweetness and intricate floral notes.\n",
      "Roast Level: Light to medium roast, perfect for preserving the bean's unique flavors.\n",
      "Brewing Recommendations: Best enjoyed using pour-over, Chemex, or Aeropress methods to savor its complex profile.\n",
      "Packaging: 12 oz (340g) eco-friendly, resealable bags.\n",
      "Price: $50 per bag, a testament to its exceptional quality and exclusivity.\n",
      "Certifications: Direct Trade, Rainforest Alliance Certified, ensuring sustainability and fair trade practices.\n",
      "Awards: Celebrated for its outstanding quality with multiple wins in the Best of Panama competition.\n",
      "\n",
      "Shop Name: PlanetBucks\n",
      "What we sell: coffee drinks and coffee bean\n",
      "\n",
      "Operating time:\n",
      "Monday to Friday 7 am - 8 pm\n",
      "Saturday, Sunday, National Holiday 9 am - 4 pm\n",
      "\n",
      "Address: ชั้น G ห้าง Emquartier สุขุมวิท กรุงเทพฯ\n",
      "Branch 1: Icon Siam Mall, Third Floor, South Wing, Bangkok, Thailand\n",
      "Branch 2: 103th Floor, Empire State Building, NYC\n",
      "\n",
      "Payment: cash, credit card, square, bitcoin\u001b[0m\u001b[32;1m\u001b[1;3mI can help you place an order for coffee from PlanetBucks. Here are the coffee drink options and prices:\n",
      "\n",
      "- Espresso: Small $2.00, Large $3.00\n",
      "- Americano: Small $2.50, Large $3.50\n",
      "- Cappuccino: Small $3.00, Large $4.50\n",
      "- Latte: Small $3.50, Large $5.00\n",
      "- Mocha: Small $4.00, Large $5.50\n",
      "\n",
      "Would you like to place an order for any of these coffee drinks?\u001b[0m\n",
      "\n",
      "\u001b[1m> Finished chain.\u001b[0m\n",
      "\n",
      "\n",
      "\u001b[1m> Entering new AgentExecutor chain...\u001b[0m\n",
      "\u001b[32;1m\u001b[1;3mThe price for a small Espresso at PlanetBucks is $2.00.\u001b[0m\n",
      "\n",
      "\u001b[1m> Finished chain.\u001b[0m\n",
      "\n",
      "\n",
      "\u001b[1m> Entering new AgentExecutor chain...\u001b[0m\n",
      "\u001b[32;1m\u001b[1;3mYour total for the small Espresso is $2.00.\u001b[0m\n",
      "\n",
      "\u001b[1m> Finished chain.\u001b[0m\n"
     ]
    }
   ],
   "source": [
    "import gradio as gr\n",
    "\n",
    "demo = gr.ChatInterface(fn=converse)\n",
    "\n",
    "demo.launch(share=False)"
   ]
  }
 ],
 "metadata": {
  "kernelspec": {
   "display_name": "chatenv",
   "language": "python",
   "name": "python3"
  },
  "language_info": {
   "codemirror_mode": {
    "name": "ipython",
    "version": 3
   },
   "file_extension": ".py",
   "mimetype": "text/x-python",
   "name": "python",
   "nbconvert_exporter": "python",
   "pygments_lexer": "ipython3",
   "version": "3.10.15"
  }
 },
 "nbformat": 4,
 "nbformat_minor": 2
}
